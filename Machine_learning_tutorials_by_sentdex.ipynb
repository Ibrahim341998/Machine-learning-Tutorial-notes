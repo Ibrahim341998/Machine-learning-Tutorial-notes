{
  "nbformat": 4,
  "nbformat_minor": 0,
  "metadata": {
    "colab": {
      "name": "Machine learning tutorials by sentdex.ipynb",
      "provenance": [],
      "authorship_tag": "ABX9TyMclcNF+kzoKynNfk5DCpOG",
      "include_colab_link": true
    },
    "kernelspec": {
      "name": "python3",
      "display_name": "Python 3"
    },
    "language_info": {
      "name": "python"
    }
  },
  "cells": [
    {
      "cell_type": "markdown",
      "metadata": {
        "id": "view-in-github",
        "colab_type": "text"
      },
      "source": [
        "<a href=\"https://colab.research.google.com/github/Ibrahim341998/Machine-learning-Tutorial-notes/blob/main/Machine_learning_tutorials_by_sentdex.ipynb\" target=\"_parent\"><img src=\"https://colab.research.google.com/assets/colab-badge.svg\" alt=\"Open In Colab\"/></a>"
      ]
    },
    {
      "cell_type": "code",
      "execution_count": 1,
      "metadata": {
        "colab": {
          "base_uri": "https://localhost:8080/"
        },
        "id": "xn38-WmfctDM",
        "outputId": "c9949e39-e1f3-4d64-e28f-971719d369a5"
      },
      "outputs": [
        {
          "output_type": "stream",
          "name": "stdout",
          "text": [
            "Requirement already satisfied: sklearn in /usr/local/lib/python3.7/dist-packages (0.0)\n",
            "Requirement already satisfied: scikit-learn in /usr/local/lib/python3.7/dist-packages (from sklearn) (1.0.2)\n",
            "Requirement already satisfied: numpy>=1.14.6 in /usr/local/lib/python3.7/dist-packages (from scikit-learn->sklearn) (1.19.5)\n",
            "Requirement already satisfied: joblib>=0.11 in /usr/local/lib/python3.7/dist-packages (from scikit-learn->sklearn) (1.1.0)\n",
            "Requirement already satisfied: scipy>=1.1.0 in /usr/local/lib/python3.7/dist-packages (from scikit-learn->sklearn) (1.4.1)\n",
            "Requirement already satisfied: threadpoolctl>=2.0.0 in /usr/local/lib/python3.7/dist-packages (from scikit-learn->sklearn) (3.0.0)\n"
          ]
        }
      ],
      "source": [
        "pip install sklearn"
      ]
    },
    {
      "cell_type": "code",
      "source": [
        "pip install Quandl"
      ],
      "metadata": {
        "colab": {
          "base_uri": "https://localhost:8080/"
        },
        "id": "NbfLy0LYdtX5",
        "outputId": "c06daaa9-f07c-4cee-c8a8-bb58074f42a3"
      },
      "execution_count": 2,
      "outputs": [
        {
          "output_type": "stream",
          "name": "stdout",
          "text": [
            "Requirement already satisfied: Quandl in /usr/local/lib/python3.7/dist-packages (3.7.0)\n",
            "Requirement already satisfied: requests>=2.7.0 in /usr/local/lib/python3.7/dist-packages (from Quandl) (2.23.0)\n",
            "Requirement already satisfied: inflection>=0.3.1 in /usr/local/lib/python3.7/dist-packages (from Quandl) (0.5.1)\n",
            "Requirement already satisfied: pandas>=0.14 in /usr/local/lib/python3.7/dist-packages (from Quandl) (1.3.5)\n",
            "Requirement already satisfied: python-dateutil in /usr/local/lib/python3.7/dist-packages (from Quandl) (2.8.2)\n",
            "Requirement already satisfied: six in /usr/local/lib/python3.7/dist-packages (from Quandl) (1.15.0)\n",
            "Requirement already satisfied: numpy>=1.8 in /usr/local/lib/python3.7/dist-packages (from Quandl) (1.19.5)\n",
            "Requirement already satisfied: more-itertools in /usr/local/lib/python3.7/dist-packages (from Quandl) (8.12.0)\n",
            "Requirement already satisfied: pytz>=2017.3 in /usr/local/lib/python3.7/dist-packages (from pandas>=0.14->Quandl) (2018.9)\n",
            "Requirement already satisfied: idna<3,>=2.5 in /usr/local/lib/python3.7/dist-packages (from requests>=2.7.0->Quandl) (2.10)\n",
            "Requirement already satisfied: urllib3!=1.25.0,!=1.25.1,<1.26,>=1.21.1 in /usr/local/lib/python3.7/dist-packages (from requests>=2.7.0->Quandl) (1.24.3)\n",
            "Requirement already satisfied: certifi>=2017.4.17 in /usr/local/lib/python3.7/dist-packages (from requests>=2.7.0->Quandl) (2021.10.8)\n",
            "Requirement already satisfied: chardet<4,>=3.0.2 in /usr/local/lib/python3.7/dist-packages (from requests>=2.7.0->Quandl) (3.0.4)\n"
          ]
        }
      ]
    },
    {
      "cell_type": "code",
      "source": [
        "pip install pandas"
      ],
      "metadata": {
        "colab": {
          "base_uri": "https://localhost:8080/"
        },
        "id": "cA79BLAwd8M9",
        "outputId": "6de8b04b-22f7-47f6-a1c0-a85c97088a74"
      },
      "execution_count": 3,
      "outputs": [
        {
          "output_type": "stream",
          "name": "stdout",
          "text": [
            "Requirement already satisfied: pandas in /usr/local/lib/python3.7/dist-packages (1.3.5)\n",
            "Requirement already satisfied: python-dateutil>=2.7.3 in /usr/local/lib/python3.7/dist-packages (from pandas) (2.8.2)\n",
            "Requirement already satisfied: numpy>=1.17.3 in /usr/local/lib/python3.7/dist-packages (from pandas) (1.19.5)\n",
            "Requirement already satisfied: pytz>=2017.3 in /usr/local/lib/python3.7/dist-packages (from pandas) (2018.9)\n",
            "Requirement already satisfied: six>=1.5 in /usr/local/lib/python3.7/dist-packages (from python-dateutil>=2.7.3->pandas) (1.15.0)\n"
          ]
        }
      ]
    },
    {
      "cell_type": "code",
      "source": [
        "import pandas as pd\n",
        "import quandl , math\n",
        "import numpy as np\n",
        "from sklearn import preprocessing, svm\n",
        "from sklearn.model_selection import train_test_split\n",
        "from sklearn.linear_model import LinearRegression\n",
        "\n",
        "# To get datasets from the give sources\n",
        "df =  quandl.get('WIKI/GOOGL')\n",
        "print(df.head())"
      ],
      "metadata": {
        "colab": {
          "base_uri": "https://localhost:8080/"
        },
        "id": "fS75cD5Yec7g",
        "outputId": "72098ca8-15ab-4f9f-a551-152bb22e0e60"
      },
      "execution_count": 4,
      "outputs": [
        {
          "output_type": "stream",
          "name": "stdout",
          "text": [
            "              Open    High     Low  ...   Adj. Low  Adj. Close  Adj. Volume\n",
            "Date                                ...                                    \n",
            "2004-08-19  100.01  104.06   95.96  ...  48.128568   50.322842   44659000.0\n",
            "2004-08-20  101.01  109.08  100.50  ...  50.405597   54.322689   22834300.0\n",
            "2004-08-23  110.76  113.48  109.05  ...  54.693835   54.869377   18256100.0\n",
            "2004-08-24  111.24  111.60  103.57  ...  51.945350   52.597363   15247300.0\n",
            "2004-08-25  104.76  108.00  103.88  ...  52.100830   53.164113    9188600.0\n",
            "\n",
            "[5 rows x 12 columns]\n"
          ]
        }
      ]
    },
    {
      "cell_type": "code",
      "source": [
        "# using required data frames\n",
        "df = df[['Adj. Open','Adj. High','Adj. Low','Adj. Close','Adj. Volume',]]"
      ],
      "metadata": {
        "id": "ToGCdLi1gAOB"
      },
      "execution_count": 5,
      "outputs": []
    },
    {
      "cell_type": "code",
      "source": [
        "# getting percent change in High and Low at closing  \n",
        "df['HCL_PCT'] = (df['Adj. High'] - df['Adj. Close']) / df['Adj. Close'] * 100.0"
      ],
      "metadata": {
        "id": "812EnGKnkqM6"
      },
      "execution_count": 6,
      "outputs": []
    },
    {
      "cell_type": "code",
      "source": [
        "# getting percent change in price\n",
        "df['PCT_change'] = (df['Adj. Close'] - df['Adj. Open']) / df['Adj. Open'] * 100.0\n",
        "df = df[['Adj. Close','HCL_PCT','PCT_change','Adj. Volume']]\n",
        "forecast_col = 'Adj. Close'\n",
        "df.fillna(-99999, inplace=True)\n",
        "forecast_out = int(math.ceil(0.01*len(df)))"
      ],
      "metadata": {
        "id": "nVze-h7FlhuM"
      },
      "execution_count": 7,
      "outputs": []
    },
    {
      "cell_type": "code",
      "source": [
        "print(df)"
      ],
      "metadata": {
        "colab": {
          "base_uri": "https://localhost:8080/"
        },
        "id": "GdnfZOdKmg8S",
        "outputId": "b0ade3c4-cb06-42e2-eb48-509bfcff7dab"
      },
      "execution_count": 8,
      "outputs": [
        {
          "output_type": "stream",
          "name": "stdout",
          "text": [
            "             Adj. Close   HCL_PCT  PCT_change  Adj. Volume\n",
            "Date                                                      \n",
            "2004-08-19    50.322842  3.712563    0.324968   44659000.0\n",
            "2004-08-20    54.322689  0.710922    7.227007   22834300.0\n",
            "2004-08-23    54.869377  3.729433   -1.227880   18256100.0\n",
            "2004-08-24    52.597363  6.417469   -5.726357   15247300.0\n",
            "2004-08-25    53.164113  1.886792    1.183658    9188600.0\n",
            "...                 ...       ...         ...          ...\n",
            "2018-03-21  1094.000000  1.343693    0.130884    1990515.0\n",
            "2018-03-22  1053.150000  2.921711   -2.487014    3418154.0\n",
            "2018-03-23  1026.550000  3.918952   -2.360729    2413517.0\n",
            "2018-03-26  1054.090000  0.491419    0.332191    3272409.0\n",
            "2018-03-27  1006.940000  5.720301   -5.353887    2940957.0\n",
            "\n",
            "[3424 rows x 4 columns]\n"
          ]
        }
      ]
    },
    {
      "cell_type": "code",
      "source": [
        "df['label'] = df[forecast_col].shift(-forecast_out)\n",
        "df.dropna(inplace=True)"
      ],
      "metadata": {
        "id": "i5M0sX8eoY0l"
      },
      "execution_count": 9,
      "outputs": []
    },
    {
      "cell_type": "code",
      "source": [
        "print(df.head())"
      ],
      "metadata": {
        "colab": {
          "base_uri": "https://localhost:8080/"
        },
        "id": "qPZkhZL00BLB",
        "outputId": "81e9d8eb-fae0-4810-8ca4-660ae9918f47"
      },
      "execution_count": 10,
      "outputs": [
        {
          "output_type": "stream",
          "name": "stdout",
          "text": [
            "            Adj. Close   HCL_PCT  PCT_change  Adj. Volume      label\n",
            "Date                                                                \n",
            "2004-08-19   50.322842  3.712563    0.324968   44659000.0  69.078238\n",
            "2004-08-20   54.322689  0.710922    7.227007   22834300.0  67.839414\n",
            "2004-08-23   54.869377  3.729433   -1.227880   18256100.0  68.912727\n",
            "2004-08-24   52.597363  6.417469   -5.726357   15247300.0  70.668146\n",
            "2004-08-25   53.164113  1.886792    1.183658    9188600.0  71.219849\n"
          ]
        }
      ]
    },
    {
      "cell_type": "code",
      "source": [
        "print(df.tail())"
      ],
      "metadata": {
        "colab": {
          "base_uri": "https://localhost:8080/"
        },
        "id": "OIImCV-p3fEu",
        "outputId": "32403934-fbd1-4c07-a892-a00f4ffa3ff8"
      },
      "execution_count": 11,
      "outputs": [
        {
          "output_type": "stream",
          "name": "stdout",
          "text": [
            "            Adj. Close   HCL_PCT  PCT_change  Adj. Volume    label\n",
            "Date                                                              \n",
            "2018-01-30     1177.37  0.896914   -0.029718    1792602.0  1094.00\n",
            "2018-01-31     1182.22  0.346805   -0.134312    1643877.0  1053.15\n",
            "2018-02-01     1181.59  0.495942    0.476195    2774967.0  1026.55\n",
            "2018-02-02     1119.20  1.081129   -0.729098    5798880.0  1054.09\n",
            "2018-02-05     1068.76  4.325574   -2.893850    3742469.0  1006.94\n"
          ]
        }
      ]
    },
    {
      "cell_type": "code",
      "source": [
        "x = np.array(df.drop(['label'], 1))\n",
        "y = np.array(df['label'])"
      ],
      "metadata": {
        "id": "cwV6wE2M3xed",
        "colab": {
          "base_uri": "https://localhost:8080/"
        },
        "outputId": "c53b6d04-c884-474e-91e4-f8b7a197f268"
      },
      "execution_count": 12,
      "outputs": [
        {
          "output_type": "stream",
          "name": "stderr",
          "text": [
            "/usr/local/lib/python3.7/dist-packages/ipykernel_launcher.py:1: FutureWarning: In a future version of pandas all arguments of DataFrame.drop except for the argument 'labels' will be keyword-only\n",
            "  \"\"\"Entry point for launching an IPython kernel.\n"
          ]
        }
      ]
    }
  ]
}